{
 "cells": [
  {
   "cell_type": "markdown",
   "metadata": {},
   "source": [
    "## xml data clean"
   ]
  },
  {
   "cell_type": "code",
   "execution_count": 1,
   "metadata": {},
   "outputs": [],
   "source": [
    "# coding: utf-8\n",
    "import xml.etree.ElementTree as ET\n",
    "from pytorch_transformers import BertTokenizer, BertConfig\n",
    "from pytorch_transformers import WarmupLinearSchedule\n",
    "from torch.utils.data import DataLoader, SubsetRandomSampler\n",
    "\n",
    "in_file = 'train.xml'\n",
    "tree = ET.parse(in_file)\n",
    "# 获得根节点 SMP2019-ECISA\n",
    "root = tree.getroot()\n",
    "# 遍历根节点\n"
   ]
  },
  {
   "cell_type": "code",
   "execution_count": null,
   "metadata": {},
   "outputs": [],
   "source": [
    "tokenizer = BertTokenizer.from_pretrained('bert-base-uncased')\n"
   ]
  },
  {
   "cell_type": "code",
   "execution_count": 2,
   "metadata": {
    "scrolled": true
   },
   "outputs": [],
   "source": [
    "import xml.etree.ElementTree as ET\n",
    " \n",
    "in_file = 'train.xml'\n",
    "tree = ET.parse(in_file)\n",
    "# 获得根节点 SMP2019-ECISA\n",
    "root = tree.getroot()\n",
    "# 遍历根节点"
   ]
  },
  {
   "cell_type": "code",
   "execution_count": 5,
   "metadata": {},
   "outputs": [],
   "source": [
    "file = open('train.txt','w',encoding=\"utf8\")"
   ]
  },
  {
   "cell_type": "code",
   "execution_count": 6,
   "metadata": {},
   "outputs": [],
   "source": [
    "train_vocab = {}\n",
    "train_vocab['pad'] = str(0) # padding 定义为0"
   ]
  },
  {
   "cell_type": "code",
   "execution_count": 8,
   "metadata": {},
   "outputs": [
    {
     "name": "stdout",
     "output_type": "stream",
     "text": [
      "vocab size:5892\n"
     ]
    }
   ],
   "source": [
    "max_len = 100\n",
    "train_vocab_id = 2 # 1 是 unk\n",
    "for doc in root:\n",
    "    doc_attr = doc.attrib \n",
    "    for sent in doc:\n",
    "        sent_attr = sent.attrib\n",
    "        # {'ID': '1', 'label': '2'}\n",
    "        label = sent_attr.get('label')\n",
    "        text = sent.text.strip()\n",
    "        id_text = \"\"\n",
    "        sent_len = 0\n",
    "        for char in text:\n",
    "            if char not in train_vocab:\n",
    "                train_vocab_id = train_vocab_id + 1\n",
    "                train_vocab[char] = str(train_vocab_id) #纳入新词，id为id+1\n",
    "            id_text = id_text + train_vocab[char] + \" \" #convert token to id\n",
    "            sent_len = sent_len + 1\n",
    "            if(sent_len >= max_len):\n",
    "                break\n",
    "        id_text = id_text + \"0 \"*(max_len-sent_len+1) + \"0\"\n",
    "        if label is not None: \n",
    "            file.write(label.replace(\"\\\"\",\"\"))\n",
    "            file.write(\" \")\n",
    "            file.write(id_text)\n",
    "            file.write(\"\\n\")\n",
    "print(\"vocab size:\"+ str(train_vocab_id))\n",
    "file.close()"
   ]
  },
  {
   "cell_type": "code",
   "execution_count": null,
   "metadata": {},
   "outputs": [],
   "source": [
    "file = open('dev.txt','w',encoding=\"utf8\")\n",
    "import xml.etree.ElementTree as ET\n",
    " \n",
    "in_file = 'SMP2019_ECISA_Dev.xml'\n",
    "tree = ET.parse(in_file)\n",
    "# 获得根节点 SMP2019-ECISA\n",
    "root = tree.getroot()\n",
    "# 遍历根节点"
   ]
  },
  {
   "cell_type": "code",
   "execution_count": null,
   "metadata": {},
   "outputs": [],
   "source": [
    "for doc in root:\n",
    "    # attrib 获得 doc 的属性\n",
    "    doc_attr = doc.attrib \n",
    "    # print(doc_attr) # {'ID': '4'}\n",
    "    # 遍历doc 中的子元素\n",
    "    for sent in doc:\n",
    "        sent_attr = sent.attrib\n",
    "        # {'ID': '1', 'label': '2'}\n",
    "        label = sent_attr.get('label')\n",
    "        # 获得正文\n",
    "        text = sent.text.strip()\n",
    "        id_text = \"\"\n",
    "        sent_len = 0\n",
    "        for char in text:\n",
    "            if char not in train_vocab:\n",
    "            id_text = id_text + train_vocab.get(char,1) + \" \" #convert token to id\n",
    "            sent_len = sent_len + 1\n",
    "            if(sent_len >= max_len):\n",
    "                break\n",
    "        id_text = id_text + \"0 \"*(max_len-sent_len+1) + \"0\"\n",
    "        if label is not None: \n",
    "            file.write(label.replace(\"\\\"\",\"\"))\n",
    "            file.write(\" \")\n",
    "            file.write(id_text)\n",
    "            file.write(\"\\n\")\n",
    "file.close()"
   ]
  },
  {
   "cell_type": "code",
   "execution_count": null,
   "metadata": {},
   "outputs": [],
   "source": []
  }
 ],
 "metadata": {
  "kernelspec": {
   "display_name": "Python 3",
   "language": "python",
   "name": "python3"
  },
  "language_info": {
   "codemirror_mode": {
    "name": "ipython",
    "version": 3
   },
   "file_extension": ".py",
   "mimetype": "text/x-python",
   "name": "python",
   "nbconvert_exporter": "python",
   "pygments_lexer": "ipython3",
   "version": "3.7.3"
  }
 },
 "nbformat": 4,
 "nbformat_minor": 4
}
