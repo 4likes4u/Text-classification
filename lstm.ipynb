{
 "cells": [
  {
   "cell_type": "code",
   "execution_count": 1,
   "metadata": {},
   "outputs": [],
   "source": [
    "import torch\n",
    "import numpy as np\n",
    "from torch import nn\n",
    "import torch.utils.data as Data"
   ]
  },
  {
   "cell_type": "code",
   "execution_count": 2,
   "metadata": {},
   "outputs": [],
   "source": [
    "# load data\n",
    "train = np.loadtxt(\"train.txt\")\n",
    "dev = np.loadtxt(\"dev.txt\")\n",
    "test = np.loadtxt(\"test.txt\")\n",
    "#vocab size = vocab size:5892"
   ]
  },
  {
   "cell_type": "code",
   "execution_count": 3,
   "metadata": {
    "scrolled": true
   },
   "outputs": [
    {
     "name": "stdout",
     "output_type": "stream",
     "text": [
      "(14788, 103)\n",
      "(5145, 103)\n"
     ]
    }
   ],
   "source": [
    "print(train.shape)\n",
    "print(dev.shape)"
   ]
  },
  {
   "cell_type": "code",
   "execution_count": 4,
   "metadata": {},
   "outputs": [],
   "source": [
    "from ignite.metrics import Accuracy\n",
    "def eval_at_dev(model, dev_iter):\n",
    "    acc = Accuracy()\n",
    "    for sent, gd_label in dev_iter:\n",
    "        pred = model(sent) #get model predict\n",
    "        acc.update((pred, gd_label))\n",
    "    acc_rate = acc.compute()\n",
    "    print(\"current model over dev set accuracy rate: \" + str(acc_rate))\n",
    "    return acc_rate"
   ]
  },
  {
   "cell_type": "code",
   "execution_count": 5,
   "metadata": {},
   "outputs": [],
   "source": [
    "#定义数据迭代器\n",
    "batch_size = 100\n",
    "train_set = Data.TensorDataset(torch.LongTensor(train[:, 1:103]), torch.LongTensor(train[:, 0]))\n",
    "train_iter = Data.DataLoader(train_set, batch_size, shuffle=True)\n",
    "\n",
    "dev_batch_size = 343\n",
    "dev_set = Data.TensorDataset(torch.LongTensor(dev[:, 1:103]), torch.LongTensor(dev[:, 0]))\n",
    "dev_iter = Data.DataLoader(dev_set, dev_batch_size, shuffle=False)"
   ]
  },
  {
   "cell_type": "code",
   "execution_count": 7,
   "metadata": {},
   "outputs": [],
   "source": [
    "#定义模型\n",
    "class LSTM(nn.Module): \n",
    "    def __init__(self):\n",
    "        super(LSTM, self).__init__()\n",
    "        self.embedding = nn.Embedding(5895, 100) #5895 个词，每个词的嵌入是100维\n",
    "        self.lstm = nn.LSTM(input_size=100, hidden_size=100, num_layers=1, batch_first=True)#定义LSTM，LSTM的输入是(batch_size, seq_len, embedding_size)\n",
    "        self.fc1 = nn.Linear(100, 300)\n",
    "        self.fc2 = nn.Linear(300, 3)\n",
    "\n",
    "    def forward(self, x):\n",
    "        x = self.embedding(x)\n",
    "        x,_ = self.lstm(x)\n",
    "        x = x.mean(dim=1)\n",
    "        x = self.fc1(x)\n",
    "        x = x.relu()\n",
    "        x = self.fc2(x)\n",
    "        return x\n",
    "\n",
    "class DAN(nn.Module): \n",
    "    def __init__(self):\n",
    "        super(DAN, self).__init__()\n",
    "        self.embedding = nn.Embedding(5895, 100) #5895 个词，每个词的嵌入是100维\n",
    "        self.fc1 = nn.Linear(100, 300)\n",
    "        self.fc2 = nn.Linear(300, 3)\n",
    "\n",
    "    def forward(self, x):\n",
    "        x = self.embedding(x)\n",
    "        x = x.mean(dim=1)\n",
    "        x = self.fc1(x)\n",
    "        x = x.relu()\n",
    "        x = self.fc2(x)\n",
    "        return x\n",
    "#实例化\n",
    "model = DAN()\n"
   ]
  },
  {
   "cell_type": "code",
   "execution_count": 8,
   "metadata": {},
   "outputs": [],
   "source": [
    "#优化\n",
    "\n",
    "#定义Loss\n",
    "loss = nn.CrossEntropyLoss()\n",
    "\n",
    "#定义优化算法\n",
    "import torch.optim as optim #\n",
    "optimizer = optim.Adam(model.parameters(), lr=0.001) #使用Adam 优化器"
   ]
  },
  {
   "cell_type": "code",
   "execution_count": 9,
   "metadata": {},
   "outputs": [
    {
     "name": "stdout",
     "output_type": "stream",
     "text": [
      "before training dev accuracy:\n",
      "current model over dev set accuracy rate: 0.2639455782312925\n",
      "let's start training\n",
      "current model over dev set accuracy rate: 0.6447035957240039\n",
      "epoch: 0, loss: 0.789752\n",
      "current model over dev set accuracy rate: 0.7004859086491739\n",
      "epoch: 1, loss: 0.752326\n",
      "current model over dev set accuracy rate: 0.7092322643343052\n",
      "epoch: 2, loss: 0.687499\n",
      "current model over dev set accuracy rate: 0.7350826044703596\n",
      "epoch: 3, loss: 0.669652\n",
      "current model over dev set accuracy rate: 0.7339164237123421\n",
      "epoch: 4, loss: 0.682741\n",
      "current model over dev set accuracy rate: 0.7420796890184646\n",
      "epoch: 5, loss: 0.575167\n",
      "current model over dev set accuracy rate: 0.726530612244898\n",
      "epoch: 6, loss: 0.683028\n",
      "current model over dev set accuracy rate: 0.7484936831875607\n",
      "epoch: 7, loss: 0.568585\n",
      "current model over dev set accuracy rate: 0.7216715257531584\n",
      "epoch: 8, loss: 0.513839\n",
      "current model over dev set accuracy rate: 0.7523809523809524\n",
      "epoch: 9, loss: 0.389502\n"
     ]
    }
   ],
   "source": [
    "#进行训练\n",
    "max_epoch = 10\n",
    "print(\"before training dev accuracy:\")\n",
    "eval_at_dev(model, dev_iter)\n",
    "print(\"let's start training\")\n",
    "for epoch in range(max_epoch):\n",
    "    for sent, label in train_iter:\n",
    "        output = model(sent.long())\n",
    "        L = loss(output, label.long())\n",
    "        optimizer.zero_grad()\n",
    "        L.backward()\n",
    "        optimizer.step()\n",
    "    eval_at_dev(model, dev_iter)\n",
    "    print('epoch: %d, loss: %f' % (epoch, L.item()))"
   ]
  },
  {
   "cell_type": "code",
   "execution_count": null,
   "metadata": {},
   "outputs": [],
   "source": []
  }
 ],
 "metadata": {
  "kernelspec": {
   "display_name": "Python 3",
   "language": "python",
   "name": "python3"
  },
  "language_info": {
   "codemirror_mode": {
    "name": "ipython",
    "version": 3
   },
   "file_extension": ".py",
   "mimetype": "text/x-python",
   "name": "python",
   "nbconvert_exporter": "python",
   "pygments_lexer": "ipython3",
   "version": "3.7.3"
  }
 },
 "nbformat": 4,
 "nbformat_minor": 2
}
